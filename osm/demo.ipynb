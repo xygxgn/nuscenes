{
 "cells": [
  {
   "cell_type": "code",
   "execution_count": null,
   "id": "0eb5343e",
   "metadata": {},
   "outputs": [],
   "source": [
    "from download import get_latlon, get_osm, get_latlon_from_address\n",
    "from project import Projection, BoundaryBox\n",
    "from viz import GeoPlotter, Colormap, plot_nodes\n",
    "from tiling import TileManager\n",
    "from viz_2d import plot_images\n",
    "from pathlib import Path\n",
    "import numpy as np\n"
   ]
  },
  {
   "cell_type": "markdown",
   "id": "b2b16bba",
   "metadata": {},
   "source": [
    "解析某个位置的经纬度"
   ]
  },
  {
   "cell_type": "code",
   "execution_count": null,
   "id": "c8f9d75f",
   "metadata": {},
   "outputs": [],
   "source": [
    "# use latlon directly\n",
    "latlon = np.array((47.3783433, 8.5487747))\n",
    "# latlon = np.array((1.2882100868743724, 103.78475189208984))\n",
    "\n",
    "# get latlon from address\n",
    "# prior_address = \"ETH CAB Zurich\"\n",
    "# latlon = get_latlon(prior_address=prior_address)\n",
    "print(latlon)"
   ]
  },
  {
   "cell_type": "code",
   "execution_count": null,
   "id": "bad673c9",
   "metadata": {},
   "outputs": [],
   "source": [
    "proj = Projection(*latlon)\n",
    "center = proj.project(latlon)\n",
    "print(center)\n",
    "\n",
    "# get the box\n",
    "tile_size_meters = 64\n",
    "bbox = BoundaryBox(center, center) + tile_size_meters"
   ]
  },
  {
   "cell_type": "code",
   "execution_count": null,
   "id": "d9129e41",
   "metadata": {},
   "outputs": [],
   "source": [
    "# Show the query area in an interactive map\n",
    "plot = GeoPlotter(zoom=16)\n",
    "plot.points(proj.latlonalt[:2], \"red\", name=\"location prior\", size=10)\n",
    "plot.bbox(proj.unproject(bbox), \"blue\", name=\"map tile\")\n",
    "plot.fig.show()"
   ]
  },
  {
   "cell_type": "code",
   "execution_count": null,
   "id": "39c5e2c0",
   "metadata": {},
   "outputs": [],
   "source": [
    "# get osm map in the box\n",
    "path = Path('../data/sets/osm/' + prior_address.replace(' ', '_') + '.json')\n",
    "get_osm(proj.unproject(bbox + 10), cache_path=path, overwrite=True)"
   ]
  },
  {
   "cell_type": "code",
   "execution_count": null,
   "id": "327d0c10",
   "metadata": {},
   "outputs": [],
   "source": [
    "# Query OpenStreetMap for this area\n",
    "pixel_per_meter = 2\n",
    "tiler = TileManager.from_bbox(proj, bbox, pixel_per_meter, path=path)\n",
    "canvas = tiler.query(bbox)"
   ]
  },
  {
   "cell_type": "code",
   "execution_count": null,
   "id": "937ca446",
   "metadata": {},
   "outputs": [],
   "source": [
    "# Show the inputs to the model: raster map\n",
    "map_viz = Colormap.apply(canvas.raster)\n",
    "plot_images([map_viz], titles=[\"OpenStreetMap raster\"], cmaps=\"gray\")\n",
    "plot_nodes(0, canvas.raster[2], fontsize=6, size=10)"
   ]
  },
  {
   "cell_type": "code",
   "execution_count": null,
   "id": "52553fce",
   "metadata": {},
   "outputs": [],
   "source": [
    "# project the raster map to the interactive map\n",
    "bbox_latlon = proj.unproject(canvas.bbox)\n",
    "plot = GeoPlotter(zoom=16.5)\n",
    "plot.raster(map_viz, bbox_latlon, opacity=0.5)\n",
    "# plot.raster(likelihood_overlay(prob.numpy().max(-1)), proj.unproject(bbox))\n",
    "plot.points(proj.latlonalt[:2], \"red\", name=\"location prior\", size=10)\n",
    "# plot.points(proj.unproject(canvas.to_xy(uv)), \"black\", name=\"argmax\", size=10)\n",
    "plot.bbox(bbox_latlon, \"blue\", name=\"map tile\")\n",
    "plot.fig.show()"
   ]
  }
 ],
 "metadata": {
  "kernelspec": {
   "display_name": "orienternet",
   "language": "python",
   "name": "python3"
  },
  "language_info": {
   "codemirror_mode": {
    "name": "ipython",
    "version": 3
   },
   "file_extension": ".py",
   "mimetype": "text/x-python",
   "name": "python",
   "nbconvert_exporter": "python",
   "pygments_lexer": "ipython3",
   "version": "3.8.20"
  }
 },
 "nbformat": 4,
 "nbformat_minor": 5
}
